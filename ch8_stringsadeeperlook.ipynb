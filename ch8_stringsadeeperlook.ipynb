{
 "cells": [
  {
   "cell_type": "markdown",
   "id": "b2d1b302-9956-4fbf-abfe-119487bca1cf",
   "metadata": {},
   "source": [
    "# Chapter 8: Strings: A Deeper Look\n",
    "## Jarrod Sims\n",
    "## 8.2 Formatting Strings"
   ]
  },
  {
   "cell_type": "markdown",
   "id": "b43c682e-2fd5-44e5-8f91-23165fb4c202",
   "metadata": {},
   "source": [
    "### 8.2.1 Presentation Types"
   ]
  },
  {
   "cell_type": "code",
   "execution_count": 1,
   "id": "7293ea83-1559-4405-8870-859654616d18",
   "metadata": {},
   "outputs": [
    {
     "data": {
      "text/plain": [
       "'17.49'"
      ]
     },
     "execution_count": 1,
     "metadata": {},
     "output_type": "execute_result"
    }
   ],
   "source": [
    "f'{17.489:.2f}'"
   ]
  },
  {
   "cell_type": "code",
   "execution_count": 2,
   "id": "1c988e83-7e56-4840-b579-6031e43d0048",
   "metadata": {},
   "outputs": [
    {
     "data": {
      "text/plain": [
       "'10'"
      ]
     },
     "execution_count": 2,
     "metadata": {},
     "output_type": "execute_result"
    }
   ],
   "source": [
    "f'{10:d}'"
   ]
  },
  {
   "cell_type": "code",
   "execution_count": 3,
   "id": "d7431bd4-6aa7-4f52-91db-e4b87e25f3c6",
   "metadata": {},
   "outputs": [
    {
     "data": {
      "text/plain": [
       "'A a'"
      ]
     },
     "execution_count": 3,
     "metadata": {},
     "output_type": "execute_result"
    }
   ],
   "source": [
    "f'{65:c} {97:c}'"
   ]
  },
  {
   "cell_type": "code",
   "execution_count": 4,
   "id": "5f272069-aa28-4d12-809f-d4997010e575",
   "metadata": {},
   "outputs": [
    {
     "data": {
      "text/plain": [
       "'hello 7'"
      ]
     },
     "execution_count": 4,
     "metadata": {},
     "output_type": "execute_result"
    }
   ],
   "source": [
    "f'{\"hello\":s} {7}'"
   ]
  },
  {
   "cell_type": "code",
   "execution_count": 6,
   "id": "e6af52ee-ca0c-4356-804c-3852767eff01",
   "metadata": {},
   "outputs": [
    {
     "data": {
      "text/plain": [
       "' 100000000000000000000000000.000'"
      ]
     },
     "execution_count": 6,
     "metadata": {},
     "output_type": "execute_result"
    }
   ],
   "source": [
    "from decimal import Decimal\n",
    "f' {Decimal(\"100000000000000000000000000.0\"):.3f}'"
   ]
  },
  {
   "cell_type": "code",
   "execution_count": 7,
   "id": "c148433b-00fd-4bee-b519-bf59fbfa18b5",
   "metadata": {},
   "outputs": [
    {
     "data": {
      "text/plain": [
       "' 1.000e+26'"
      ]
     },
     "execution_count": 7,
     "metadata": {},
     "output_type": "execute_result"
    }
   ],
   "source": [
    "f' {Decimal(\"100000000000000000000000000.0\"):.3e}'"
   ]
  },
  {
   "cell_type": "code",
   "execution_count": 8,
   "id": "5fd44ed1-a026-4055-9662-1ea3172fa3ed",
   "metadata": {},
   "outputs": [
    {
     "name": "stdout",
     "output_type": "stream",
     "text": [
      ":-)\n"
     ]
    }
   ],
   "source": [
    "print(f'{58:c}{45:c}{41:c}')"
   ]
  },
  {
   "cell_type": "markdown",
   "id": "1cb14c66-72da-4030-a78b-eafa2eab4ecb",
   "metadata": {},
   "source": [
    "### 8.2.2 Field Widths and Alignment      "
   ]
  },
  {
   "cell_type": "code",
   "execution_count": 10,
   "id": "11e3fa37-71e4-456c-b119-2eb8bda51ac3",
   "metadata": {},
   "outputs": [
    {
     "data": {
      "text/plain": [
       "'[        27]'"
      ]
     },
     "execution_count": 10,
     "metadata": {},
     "output_type": "execute_result"
    }
   ],
   "source": [
    "f'[{27:10d}]'"
   ]
  },
  {
   "cell_type": "code",
   "execution_count": 11,
   "id": "6c6d6de5-5316-476e-8c2f-0c103ee74189",
   "metadata": {},
   "outputs": [
    {
     "data": {
      "text/plain": [
       "'[  3.500000]'"
      ]
     },
     "execution_count": 11,
     "metadata": {},
     "output_type": "execute_result"
    }
   ],
   "source": [
    "f'[{3.5:10f}]'"
   ]
  },
  {
   "cell_type": "code",
   "execution_count": 12,
   "id": "c2e956e4-fb80-4ca6-b625-96b881f6166c",
   "metadata": {},
   "outputs": [
    {
     "data": {
      "text/plain": [
       "'[hello     ]'"
      ]
     },
     "execution_count": 12,
     "metadata": {},
     "output_type": "execute_result"
    }
   ],
   "source": [
    "f'[{\"hello\":10}]'"
   ]
  },
  {
   "cell_type": "code",
   "execution_count": 13,
   "id": "86bb1eac-0726-40f2-85d2-e857c0affd26",
   "metadata": {},
   "outputs": [
    {
     "data": {
      "text/plain": [
       "'[27             ]'"
      ]
     },
     "execution_count": 13,
     "metadata": {},
     "output_type": "execute_result"
    }
   ],
   "source": [
    "f'[{27:<15d}]'"
   ]
  },
  {
   "cell_type": "code",
   "execution_count": 14,
   "id": "ed02f687-5737-4c2d-9656-feccb318c776",
   "metadata": {},
   "outputs": [
    {
     "data": {
      "text/plain": [
       "'[3.500000       ]'"
      ]
     },
     "execution_count": 14,
     "metadata": {},
     "output_type": "execute_result"
    }
   ],
   "source": [
    "f'[{3.5:<15f}]'"
   ]
  },
  {
   "cell_type": "code",
   "execution_count": 15,
   "id": "6d9a3af7-9d70-42a2-90d6-3a82ac1f77be",
   "metadata": {},
   "outputs": [
    {
     "data": {
      "text/plain": [
       "'[          hello]'"
      ]
     },
     "execution_count": 15,
     "metadata": {},
     "output_type": "execute_result"
    }
   ],
   "source": [
    "f'[{\"hello\":>15}]'"
   ]
  },
  {
   "cell_type": "code",
   "execution_count": 16,
   "id": "0c97d35d-7adc-4133-9bee-57e2b168b050",
   "metadata": {},
   "outputs": [
    {
     "data": {
      "text/plain": [
       "'[  27   ]'"
      ]
     },
     "execution_count": 16,
     "metadata": {},
     "output_type": "execute_result"
    }
   ],
   "source": [
    "f'[{27:^7d}]'"
   ]
  },
  {
   "cell_type": "code",
   "execution_count": 17,
   "id": "5b07f4f6-5b28-49de-9994-e49867cf71c7",
   "metadata": {},
   "outputs": [
    {
     "data": {
      "text/plain": [
       "'[  3.5  ]'"
      ]
     },
     "execution_count": 17,
     "metadata": {},
     "output_type": "execute_result"
    }
   ],
   "source": [
    "f'[{3.5:^7.1f}]'"
   ]
  },
  {
   "cell_type": "code",
   "execution_count": 18,
   "id": "e12b286b-7f30-420a-a097-5b96c345e97a",
   "metadata": {},
   "outputs": [
    {
     "data": {
      "text/plain": [
       "'[hello  ]'"
      ]
     },
     "execution_count": 18,
     "metadata": {},
     "output_type": "execute_result"
    }
   ],
   "source": [
    "f'[{\"hello\":7}]'"
   ]
  },
  {
   "cell_type": "code",
   "execution_count": 20,
   "id": "61be4e40-32d2-450a-ad87-28075994a8d1",
   "metadata": {},
   "outputs": [
    {
     "name": "stdout",
     "output_type": "stream",
     "text": [
      "[    Amanda\n",
      "  Amanda  \n",
      "[Amanda    ]\n"
     ]
    }
   ],
   "source": [
    "print(f'[{\"Amanda\":>10}\\n{\"Amanda\":^10}\\n[{\"Amanda\":<10}]')"
   ]
  },
  {
   "cell_type": "markdown",
   "id": "321aa46d-5cad-42e6-9d06-a3c0b0312265",
   "metadata": {},
   "source": [
    "### 8.2.3 Numeric Formatting"
   ]
  },
  {
   "cell_type": "code",
   "execution_count": 21,
   "id": "f5c98831-3c31-4f5c-81df-ffeef27e7f96",
   "metadata": {},
   "outputs": [
    {
     "data": {
      "text/plain": [
       "'[       +27]'"
      ]
     },
     "execution_count": 21,
     "metadata": {},
     "output_type": "execute_result"
    }
   ],
   "source": [
    "f'[{27:+10d}]'"
   ]
  },
  {
   "cell_type": "code",
   "execution_count": 22,
   "id": "32dba8f3-2667-4302-9295-3aba2c69223d",
   "metadata": {},
   "outputs": [
    {
     "data": {
      "text/plain": [
       "'[+000000027]'"
      ]
     },
     "execution_count": 22,
     "metadata": {},
     "output_type": "execute_result"
    }
   ],
   "source": [
    "f'[{27:+010d}]'"
   ]
  },
  {
   "cell_type": "code",
   "execution_count": 24,
   "id": "cc204425-4ffc-4349-9d68-922e6c8a7885",
   "metadata": {},
   "outputs": [
    {
     "name": "stdout",
     "output_type": "stream",
     "text": [
      "27\n",
      " 27\n",
      "-27\n"
     ]
    }
   ],
   "source": [
    "print(f'{27:d}\\n{27: d}\\n{-27: d}')"
   ]
  },
  {
   "cell_type": "code",
   "execution_count": 25,
   "id": "4f689022-fed9-422a-8976-dcccf41612c4",
   "metadata": {},
   "outputs": [
    {
     "data": {
      "text/plain": [
       "'12,345,678'"
      ]
     },
     "execution_count": 25,
     "metadata": {},
     "output_type": "execute_result"
    }
   ],
   "source": [
    "f'{12345678:,d}'"
   ]
  },
  {
   "cell_type": "code",
   "execution_count": 26,
   "id": "2caa874a-6026-461f-a494-1f4853124e64",
   "metadata": {},
   "outputs": [
    {
     "data": {
      "text/plain": [
       "'123,456.78'"
      ]
     },
     "execution_count": 26,
     "metadata": {},
     "output_type": "execute_result"
    }
   ],
   "source": [
    "f'{123456.78:,.2f}'"
   ]
  },
  {
   "cell_type": "code",
   "execution_count": 27,
   "id": "df87dcb4-b1f9-45f5-bac2-cf9a3a733ec8",
   "metadata": {},
   "outputs": [
    {
     "name": "stdout",
     "output_type": "stream",
     "text": [
      "+10,240.47\n",
      " -3,210.95\n"
     ]
    }
   ],
   "source": [
    "print(f'{10240.473:+10,.2f}\\n{-3210.9521:+10,.2f}')"
   ]
  },
  {
   "cell_type": "code",
   "execution_count": 28,
   "id": "68904665-1431-47be-a1d1-d9964eee61f5",
   "metadata": {},
   "outputs": [
    {
     "data": {
      "text/plain": [
       "'17.49'"
      ]
     },
     "execution_count": 28,
     "metadata": {},
     "output_type": "execute_result"
    }
   ],
   "source": [
    "'{:.2f}'.format(17.489)"
   ]
  },
  {
   "cell_type": "code",
   "execution_count": 29,
   "id": "39d39242-e56c-4226-b1af-d8432939b399",
   "metadata": {},
   "outputs": [
    {
     "data": {
      "text/plain": [
       "'Amanda Cyan'"
      ]
     },
     "execution_count": 29,
     "metadata": {},
     "output_type": "execute_result"
    }
   ],
   "source": [
    "'{} {}'.format('Amanda', 'Cyan')"
   ]
  },
  {
   "cell_type": "code",
   "execution_count": 31,
   "id": "db23855e-b156-4e7d-937c-0d5086fea61f",
   "metadata": {},
   "outputs": [
    {
     "data": {
      "text/plain": [
       "'Happy Happy Birthday'"
      ]
     },
     "execution_count": 31,
     "metadata": {},
     "output_type": "execute_result"
    }
   ],
   "source": [
    "'{0} {0} {1}'.format('Happy', 'Birthday')"
   ]
  },
  {
   "cell_type": "code",
   "execution_count": 33,
   "id": "ef5e22e5-533c-43b8-b6a4-257e9fbbf9d7",
   "metadata": {},
   "outputs": [
    {
     "data": {
      "text/plain": [
       "'Amanda Cyan'"
      ]
     },
     "execution_count": 33,
     "metadata": {},
     "output_type": "execute_result"
    }
   ],
   "source": [
    "'{first} {last}'.format(first='Amanda', last='Cyan')"
   ]
  },
  {
   "cell_type": "code",
   "execution_count": 34,
   "id": "ca7ba6cb-5a11-46d6-bc85-1c333ba59b93",
   "metadata": {},
   "outputs": [
    {
     "data": {
      "text/plain": [
       "'Cyan Amanda'"
      ]
     },
     "execution_count": 34,
     "metadata": {},
     "output_type": "execute_result"
    }
   ],
   "source": [
    "'{last} {first}'.format(first='Amanda', last='Cyan')"
   ]
  },
  {
   "cell_type": "markdown",
   "id": "4b420627-50f5-47ac-882d-0ad549fbc49c",
   "metadata": {},
   "source": [
    "### 8.3 Concatenating and Repeating Strings"
   ]
  },
  {
   "cell_type": "code",
   "execution_count": 38,
   "id": "727aeba8-f6be-420e-9105-d8b31dc126a1",
   "metadata": {},
   "outputs": [
    {
     "data": {
      "text/plain": [
       "'happy birthday'"
      ]
     },
     "execution_count": 38,
     "metadata": {},
     "output_type": "execute_result"
    }
   ],
   "source": [
    "s1 = 'happy'\n",
    "s2 = 'birthday'\n",
    "s1 += ' ' + s2\n",
    "s1"
   ]
  },
  {
   "cell_type": "code",
   "execution_count": 40,
   "id": "09ba95cb-57b7-4888-a94f-b700c687dfc5",
   "metadata": {},
   "outputs": [
    {
     "data": {
      "text/plain": [
       "'>>>>>'"
      ]
     },
     "execution_count": 40,
     "metadata": {},
     "output_type": "execute_result"
    }
   ],
   "source": [
    "symbol = '>'\n",
    "symbol *= 5\n",
    "symbol"
   ]
  },
  {
   "cell_type": "code",
   "execution_count": 42,
   "id": "2a47a055-a42e-4d96-8dcf-af640440e301",
   "metadata": {},
   "outputs": [
    {
     "name": "stdout",
     "output_type": "stream",
     "text": [
      "***********\n",
      "Jarrod Sims\n",
      "***********\n"
     ]
    }
   ],
   "source": [
    "name = 'Jarrod'\n",
    "name += ' Sims'\n",
    "bar = '*'\n",
    "bar *= len(name)\n",
    "print(f'{bar}\\n{name}\\n{bar}')"
   ]
  },
  {
   "cell_type": "markdown",
   "id": "cb228ec6-10eb-43b2-a49d-11a271e1112d",
   "metadata": {},
   "source": [
    "### 8.4 Stripping Whitespace from Strings"
   ]
  },
  {
   "cell_type": "code",
   "execution_count": 44,
   "id": "4c7529c3-d430-45ef-b7e1-bfd305f09acb",
   "metadata": {},
   "outputs": [
    {
     "data": {
      "text/plain": [
       "'This is a test string.'"
      ]
     },
     "execution_count": 44,
     "metadata": {},
     "output_type": "execute_result"
    }
   ],
   "source": [
    "sentence = '\\t \\n This is a test string. \\t\\t \\n'\n",
    "sentence.strip()"
   ]
  },
  {
   "cell_type": "code",
   "execution_count": 45,
   "id": "448a86ec-9257-438f-bce4-44d664374144",
   "metadata": {},
   "outputs": [
    {
     "data": {
      "text/plain": [
       "'This is a test string. \\t\\t \\n'"
      ]
     },
     "execution_count": 45,
     "metadata": {},
     "output_type": "execute_result"
    }
   ],
   "source": [
    "sentence.lstrip()"
   ]
  },
  {
   "cell_type": "code",
   "execution_count": 46,
   "id": "5fc3c9f4-e844-4dda-97a7-ffd016920219",
   "metadata": {},
   "outputs": [
    {
     "data": {
      "text/plain": [
       "'\\t \\n This is a test string.'"
      ]
     },
     "execution_count": 46,
     "metadata": {},
     "output_type": "execute_result"
    }
   ],
   "source": [
    "sentence.rstrip()"
   ]
  },
  {
   "cell_type": "code",
   "execution_count": 47,
   "id": "1fcce42b-9d3f-42e8-9100-ed21bac5a2fa",
   "metadata": {},
   "outputs": [
    {
     "data": {
      "text/plain": [
       "'Margo Magenta'"
      ]
     },
     "execution_count": 47,
     "metadata": {},
     "output_type": "execute_result"
    }
   ],
   "source": [
    "name = '      Margo Magenta       '\n",
    "name.strip()"
   ]
  },
  {
   "cell_type": "code",
   "execution_count": 48,
   "id": "567137dd-7c11-4c11-a90f-1faef64c36aa",
   "metadata": {},
   "outputs": [
    {
     "data": {
      "text/plain": [
       "'Margo Magenta       '"
      ]
     },
     "execution_count": 48,
     "metadata": {},
     "output_type": "execute_result"
    }
   ],
   "source": [
    "name.lstrip()"
   ]
  },
  {
   "cell_type": "code",
   "execution_count": 49,
   "id": "168c9a93-8f52-47b9-b5af-fc4edd200dd2",
   "metadata": {},
   "outputs": [
    {
     "data": {
      "text/plain": [
       "'      Margo Magenta'"
      ]
     },
     "execution_count": 49,
     "metadata": {},
     "output_type": "execute_result"
    }
   ],
   "source": [
    "name.rstrip()"
   ]
  },
  {
   "cell_type": "markdown",
   "id": "783aebdc-00e4-4ba3-b24c-35ab0bd868bc",
   "metadata": {},
   "source": [
    "### 8.5 Changing Character Case"
   ]
  },
  {
   "cell_type": "code",
   "execution_count": 51,
   "id": "915528b7-3a4f-4f09-a34b-a3fa16b27871",
   "metadata": {},
   "outputs": [
    {
     "data": {
      "text/plain": [
       "'Happy birthday'"
      ]
     },
     "execution_count": 51,
     "metadata": {},
     "output_type": "execute_result"
    }
   ],
   "source": [
    "'happy birthday'.capitalize()"
   ]
  },
  {
   "cell_type": "code",
   "execution_count": 53,
   "id": "3a2804e5-d28c-40a8-b8d2-05cfba4e3d34",
   "metadata": {},
   "outputs": [
    {
     "data": {
      "text/plain": [
       "'Strings: A Deeper Look'"
      ]
     },
     "execution_count": 53,
     "metadata": {},
     "output_type": "execute_result"
    }
   ],
   "source": [
    "'strings: a deeper look'.title()"
   ]
  },
  {
   "cell_type": "code",
   "execution_count": 56,
   "id": "cfb56a0f-9a19-4292-8888-b85019608c45",
   "metadata": {},
   "outputs": [
    {
     "data": {
      "text/plain": [
       "'Happy new year'"
      ]
     },
     "execution_count": 56,
     "metadata": {},
     "output_type": "execute_result"
    }
   ],
   "source": [
    "test_string = 'happy new year'\n",
    "test_string.capitalize()"
   ]
  },
  {
   "cell_type": "code",
   "execution_count": 57,
   "id": "81fbd714-bab7-4659-ae7d-19433fb1324c",
   "metadata": {},
   "outputs": [
    {
     "data": {
      "text/plain": [
       "'Happy New Year'"
      ]
     },
     "execution_count": 57,
     "metadata": {},
     "output_type": "execute_result"
    }
   ],
   "source": [
    "test_string.title()"
   ]
  },
  {
   "cell_type": "markdown",
   "id": "e5bf3747-191b-4711-bd0a-eeea25659f0e",
   "metadata": {},
   "source": [
    "### 8.6 Comparison Operators for Strings"
   ]
  },
  {
   "cell_type": "code",
   "execution_count": 59,
   "id": "56c6ea14-fe47-4898-8ce5-5edf9f829b88",
   "metadata": {},
   "outputs": [
    {
     "name": "stdout",
     "output_type": "stream",
     "text": [
      "A: 65; a: 97\n"
     ]
    }
   ],
   "source": [
    "print(f'A: {ord(\"A\")}; a: {ord(\"a\")}')"
   ]
  },
  {
   "cell_type": "code",
   "execution_count": 60,
   "id": "1ed6e6f1-bdb0-424d-ae46-a2c09b2f968b",
   "metadata": {},
   "outputs": [
    {
     "data": {
      "text/plain": [
       "False"
      ]
     },
     "execution_count": 60,
     "metadata": {},
     "output_type": "execute_result"
    }
   ],
   "source": [
    "'Orange' == 'orange'"
   ]
  },
  {
   "cell_type": "code",
   "execution_count": 61,
   "id": "6ecc951d-29e3-4e62-a037-b375f8350b4d",
   "metadata": {},
   "outputs": [
    {
     "data": {
      "text/plain": [
       "True"
      ]
     },
     "execution_count": 61,
     "metadata": {},
     "output_type": "execute_result"
    }
   ],
   "source": [
    "'Orange' != 'orange'"
   ]
  },
  {
   "cell_type": "code",
   "execution_count": 62,
   "id": "2d850cd0-a663-4dfb-83e5-3fc1376661e2",
   "metadata": {},
   "outputs": [
    {
     "data": {
      "text/plain": [
       "True"
      ]
     },
     "execution_count": 62,
     "metadata": {},
     "output_type": "execute_result"
    }
   ],
   "source": [
    "'Orange' < 'orange'"
   ]
  },
  {
   "cell_type": "code",
   "execution_count": 63,
   "id": "c96bcc51-1bd6-40d6-9726-d3dd2155f211",
   "metadata": {},
   "outputs": [
    {
     "data": {
      "text/plain": [
       "True"
      ]
     },
     "execution_count": 63,
     "metadata": {},
     "output_type": "execute_result"
    }
   ],
   "source": [
    "'Orange' <= 'orange'"
   ]
  },
  {
   "cell_type": "code",
   "execution_count": 64,
   "id": "05bd32b0-5065-4f3a-848a-b7aa4134cc0a",
   "metadata": {},
   "outputs": [
    {
     "data": {
      "text/plain": [
       "False"
      ]
     },
     "execution_count": 64,
     "metadata": {},
     "output_type": "execute_result"
    }
   ],
   "source": [
    "'Orange' > 'orange'"
   ]
  },
  {
   "cell_type": "code",
   "execution_count": 65,
   "id": "0215cdd2-1862-4fdf-8370-4146dcb93a09",
   "metadata": {},
   "outputs": [
    {
     "data": {
      "text/plain": [
       "False"
      ]
     },
     "execution_count": 65,
     "metadata": {},
     "output_type": "execute_result"
    }
   ],
   "source": [
    "'Orange' >= 'orange'"
   ]
  },
  {
   "cell_type": "markdown",
   "id": "56e11405-bfc0-41c2-a384-b7d41214747f",
   "metadata": {},
   "source": [
    "### 8.7 Searching for Substrings"
   ]
  },
  {
   "cell_type": "code",
   "execution_count": 66,
   "id": "40099b6a-75e1-4f2c-80bc-745ef175bdc3",
   "metadata": {},
   "outputs": [
    {
     "data": {
      "text/plain": [
       "2"
      ]
     },
     "execution_count": 66,
     "metadata": {},
     "output_type": "execute_result"
    }
   ],
   "source": [
    "sentence = 'to be or not to be that is the question'\n",
    "sentence.count('to')"
   ]
  },
  {
   "cell_type": "code",
   "execution_count": 67,
   "id": "bffceb60-268b-4e46-b782-43a1e08fc80f",
   "metadata": {},
   "outputs": [
    {
     "data": {
      "text/plain": [
       "1"
      ]
     },
     "execution_count": 67,
     "metadata": {},
     "output_type": "execute_result"
    }
   ],
   "source": [
    "sentence.count('to' , 12)"
   ]
  },
  {
   "cell_type": "code",
   "execution_count": 68,
   "id": "b927d614-090a-493a-9f80-32d58c4af28c",
   "metadata": {},
   "outputs": [
    {
     "data": {
      "text/plain": [
       "1"
      ]
     },
     "execution_count": 68,
     "metadata": {},
     "output_type": "execute_result"
    }
   ],
   "source": [
    "sentence.count('that', 12, 25)"
   ]
  },
  {
   "cell_type": "code",
   "execution_count": 69,
   "id": "254700bd-00bc-48a4-a412-80caa25df874",
   "metadata": {},
   "outputs": [
    {
     "data": {
      "text/plain": [
       "3"
      ]
     },
     "execution_count": 69,
     "metadata": {},
     "output_type": "execute_result"
    }
   ],
   "source": [
    "sentence.index('be')"
   ]
  },
  {
   "cell_type": "code",
   "execution_count": 70,
   "id": "7380065f-78d8-41d0-b7a5-97ee656af6bc",
   "metadata": {},
   "outputs": [
    {
     "data": {
      "text/plain": [
       "16"
      ]
     },
     "execution_count": 70,
     "metadata": {},
     "output_type": "execute_result"
    }
   ],
   "source": [
    "sentence.rindex('be')"
   ]
  },
  {
   "cell_type": "code",
   "execution_count": 71,
   "id": "2a277136-5041-454c-9b46-2e46b1870883",
   "metadata": {},
   "outputs": [
    {
     "data": {
      "text/plain": [
       "True"
      ]
     },
     "execution_count": 71,
     "metadata": {},
     "output_type": "execute_result"
    }
   ],
   "source": [
    "'that' in sentence"
   ]
  },
  {
   "cell_type": "code",
   "execution_count": 72,
   "id": "bff6c20d-d58d-4a24-a077-744626681585",
   "metadata": {},
   "outputs": [
    {
     "data": {
      "text/plain": [
       "False"
      ]
     },
     "execution_count": 72,
     "metadata": {},
     "output_type": "execute_result"
    }
   ],
   "source": [
    "'THAT' in sentence"
   ]
  },
  {
   "cell_type": "code",
   "execution_count": 73,
   "id": "9bbcab42-9afa-42d6-ae32-2757e090d74a",
   "metadata": {},
   "outputs": [
    {
     "data": {
      "text/plain": [
       "True"
      ]
     },
     "execution_count": 73,
     "metadata": {},
     "output_type": "execute_result"
    }
   ],
   "source": [
    "'THAT' not in sentence"
   ]
  },
  {
   "cell_type": "code",
   "execution_count": 74,
   "id": "d88cb4e2-b267-451d-b49b-60a4f5c22906",
   "metadata": {},
   "outputs": [
    {
     "data": {
      "text/plain": [
       "True"
      ]
     },
     "execution_count": 74,
     "metadata": {},
     "output_type": "execute_result"
    }
   ],
   "source": [
    "sentence.startswith('to')"
   ]
  },
  {
   "cell_type": "code",
   "execution_count": 75,
   "id": "be5485c3-2966-4fee-80ae-0e0fa1bce7bc",
   "metadata": {},
   "outputs": [
    {
     "data": {
      "text/plain": [
       "False"
      ]
     },
     "execution_count": 75,
     "metadata": {},
     "output_type": "execute_result"
    }
   ],
   "source": [
    "sentence.startswith('be')"
   ]
  },
  {
   "cell_type": "code",
   "execution_count": 76,
   "id": "9b64d069-d088-47a4-88f5-a3bbebda3174",
   "metadata": {},
   "outputs": [
    {
     "data": {
      "text/plain": [
       "False"
      ]
     },
     "execution_count": 76,
     "metadata": {},
     "output_type": "execute_result"
    }
   ],
   "source": [
    "sentence.endswith('quest')"
   ]
  },
  {
   "cell_type": "code",
   "execution_count": 77,
   "id": "0f78d208-a756-445d-8d0b-28c9b6499142",
   "metadata": {},
   "outputs": [
    {
     "name": "stdout",
     "output_type": "stream",
     "text": [
      "to to that the "
     ]
    }
   ],
   "source": [
    "for word in 'to be or not to be that is the question'.split():\n",
    "    if word.startswith('t'):\n",
    "        print(word, end= ' ')"
   ]
  },
  {
   "cell_type": "markdown",
   "id": "403d5675-f354-49a4-b4f5-96914c286161",
   "metadata": {},
   "source": [
    "### 8.8 Replacing Substrings"
   ]
  },
  {
   "cell_type": "code",
   "execution_count": 80,
   "id": "32ae31de-0012-4742-a0ac-b45b4e8c3163",
   "metadata": {},
   "outputs": [
    {
     "data": {
      "text/plain": [
       "'1,2,3,4,5'"
      ]
     },
     "execution_count": 80,
     "metadata": {},
     "output_type": "execute_result"
    }
   ],
   "source": [
    "values = '1\\t2\\t3\\t4\\t5'\n",
    "values.replace('\\t', ',')"
   ]
  },
  {
   "cell_type": "code",
   "execution_count": 81,
   "id": "7a3557d7-713b-4862-a603-346744651fd2",
   "metadata": {},
   "outputs": [
    {
     "data": {
      "text/plain": [
       "'1 --> 2 --> 3 --> 4 --> 5'"
      ]
     },
     "execution_count": 81,
     "metadata": {},
     "output_type": "execute_result"
    }
   ],
   "source": [
    "'1 2 3 4 5'.replace(' ',' --> ')"
   ]
  },
  {
   "cell_type": "markdown",
   "id": "43d90581-8507-4817-8fb1-86b7f9352167",
   "metadata": {},
   "source": [
    "### 8.9 Splitting and Joining Strings"
   ]
  },
  {
   "cell_type": "code",
   "execution_count": 82,
   "id": "5791bd7d-4e6a-45e9-86b0-2d5baacd3fec",
   "metadata": {},
   "outputs": [
    {
     "data": {
      "text/plain": [
       "['A', 'B', 'C', 'D']"
      ]
     },
     "execution_count": 82,
     "metadata": {},
     "output_type": "execute_result"
    }
   ],
   "source": [
    "letters = 'A, B, C, D'\n",
    "letters.split(', ')"
   ]
  },
  {
   "cell_type": "code",
   "execution_count": 83,
   "id": "98cfd15b-d416-4c72-aaa1-be4dd9f9feb4",
   "metadata": {},
   "outputs": [
    {
     "data": {
      "text/plain": [
       "['A', 'B', 'C, D']"
      ]
     },
     "execution_count": 83,
     "metadata": {},
     "output_type": "execute_result"
    }
   ],
   "source": [
    "letters.split(', ', 2)"
   ]
  },
  {
   "cell_type": "code",
   "execution_count": 84,
   "id": "5e3d9716-1f0e-45d7-b514-e080c796770f",
   "metadata": {},
   "outputs": [
    {
     "data": {
      "text/plain": [
       "'A,B,C,D'"
      ]
     },
     "execution_count": 84,
     "metadata": {},
     "output_type": "execute_result"
    }
   ],
   "source": [
    "letters_list = ['A', 'B', 'C', 'D']\n",
    "','.join(letters_list)"
   ]
  },
  {
   "cell_type": "code",
   "execution_count": 85,
   "id": "74423032-e482-4154-8bd5-362dfd535ee3",
   "metadata": {},
   "outputs": [
    {
     "data": {
      "text/plain": [
       "'0,1,2,3,4,5,6,7,8,9'"
      ]
     },
     "execution_count": 85,
     "metadata": {},
     "output_type": "execute_result"
    }
   ],
   "source": [
    "','.join([str(i) for i in range(10)])"
   ]
  },
  {
   "cell_type": "code",
   "execution_count": 86,
   "id": "d1f44dbd-ff63-472c-852a-5ae5e17186c4",
   "metadata": {},
   "outputs": [
    {
     "data": {
      "text/plain": [
       "('Amanda', ': ', '89, 97, 92')"
      ]
     },
     "execution_count": 86,
     "metadata": {},
     "output_type": "execute_result"
    }
   ],
   "source": [
    "'Amanda: 89, 97, 92'.partition(': ')"
   ]
  },
  {
   "cell_type": "code",
   "execution_count": 88,
   "id": "c8640422-2313-4798-af39-bd74557e23cc",
   "metadata": {},
   "outputs": [
    {
     "data": {
      "text/plain": [
       "'728305'"
      ]
     },
     "execution_count": 88,
     "metadata": {},
     "output_type": "execute_result"
    }
   ],
   "source": [
    "url = 'https://nwmissouri.instructure.com/courses/47563/assignments/728305'\n",
    "rest_of_url, separator, document = url.rpartition('/')\n",
    "document"
   ]
  },
  {
   "cell_type": "code",
   "execution_count": 89,
   "id": "62c79e58-e213-4ada-9169-6148d3d7ca65",
   "metadata": {},
   "outputs": [
    {
     "data": {
      "text/plain": [
       "'https://nwmissouri.instructure.com/courses/47563/assignments'"
      ]
     },
     "execution_count": 89,
     "metadata": {},
     "output_type": "execute_result"
    }
   ],
   "source": [
    "rest_of_url"
   ]
  },
  {
   "cell_type": "code",
   "execution_count": 90,
   "id": "8c82f074-13cc-4dca-9c31-8768857af32b",
   "metadata": {},
   "outputs": [
    {
     "data": {
      "text/plain": [
       "'This is line1\\nThis is line 2\\nThis is line 3'"
      ]
     },
     "execution_count": 90,
     "metadata": {},
     "output_type": "execute_result"
    }
   ],
   "source": [
    "lines = \"\"\"This is line1\n",
    "This is line 2\n",
    "This is line 3\"\"\"\n",
    "lines"
   ]
  },
  {
   "cell_type": "code",
   "execution_count": 91,
   "id": "cb3f15b6-cdc3-4f3c-afdc-8c081bb72e38",
   "metadata": {},
   "outputs": [
    {
     "data": {
      "text/plain": [
       "['This is line1', 'This is line 2', 'This is line 3']"
      ]
     },
     "execution_count": 91,
     "metadata": {},
     "output_type": "execute_result"
    }
   ],
   "source": [
    "lines.splitlines()"
   ]
  },
  {
   "cell_type": "code",
   "execution_count": 92,
   "id": "5f952c37-fe64-4b16-a508-c41b117ce1a6",
   "metadata": {},
   "outputs": [
    {
     "data": {
      "text/plain": [
       "['This is line1\\n', 'This is line 2\\n', 'This is line 3']"
      ]
     },
     "execution_count": 92,
     "metadata": {},
     "output_type": "execute_result"
    }
   ],
   "source": [
    "lines.splitlines(True)"
   ]
  },
  {
   "cell_type": "code",
   "execution_count": 94,
   "id": "1034029c-5ae1-45fa-97d5-157a673eb923",
   "metadata": {},
   "outputs": [
    {
     "data": {
      "text/plain": [
       "'White, Pamela'"
      ]
     },
     "execution_count": 94,
     "metadata": {},
     "output_type": "execute_result"
    }
   ],
   "source": [
    "', '.join(reversed('Pamela White'.split()))"
   ]
  },
  {
   "cell_type": "markdown",
   "id": "c77d141e-49fa-4606-bc5f-43a8b1bec3b0",
   "metadata": {},
   "source": [
    "### 8.10 Characters and Character-Testing Methods"
   ]
  },
  {
   "cell_type": "code",
   "execution_count": 95,
   "id": "812d977a-18ea-4f83-a895-d3507d04a72e",
   "metadata": {},
   "outputs": [
    {
     "data": {
      "text/plain": [
       "False"
      ]
     },
     "execution_count": 95,
     "metadata": {},
     "output_type": "execute_result"
    }
   ],
   "source": [
    "'-27'.isdigit()"
   ]
  },
  {
   "cell_type": "code",
   "execution_count": 96,
   "id": "f0c619c8-938b-4529-9231-c9ac9fdf035d",
   "metadata": {},
   "outputs": [
    {
     "data": {
      "text/plain": [
       "True"
      ]
     },
     "execution_count": 96,
     "metadata": {},
     "output_type": "execute_result"
    }
   ],
   "source": [
    "'27'.isdigit()"
   ]
  },
  {
   "cell_type": "code",
   "execution_count": 97,
   "id": "c109c904-b424-4b85-a74a-43c56d08bcc8",
   "metadata": {},
   "outputs": [
    {
     "data": {
      "text/plain": [
       "True"
      ]
     },
     "execution_count": 97,
     "metadata": {},
     "output_type": "execute_result"
    }
   ],
   "source": [
    "'A9876'.isalnum()"
   ]
  },
  {
   "cell_type": "code",
   "execution_count": 98,
   "id": "1efdb00b-3d80-452a-9ec4-3ba30b4e9499",
   "metadata": {},
   "outputs": [
    {
     "data": {
      "text/plain": [
       "False"
      ]
     },
     "execution_count": 98,
     "metadata": {},
     "output_type": "execute_result"
    }
   ],
   "source": [
    "'123 Main Street'.isalnum()"
   ]
  },
  {
   "cell_type": "code",
   "execution_count": 100,
   "id": "df346076-a1d3-4cf2-999b-24b1d088a2e6",
   "metadata": {},
   "outputs": [
    {
     "data": {
      "text/plain": [
       "'C:\\\\Users\\\\jarro\\\\OneDrive\\\\Documents\\\\44-608\\\\608-mod5'"
      ]
     },
     "execution_count": 100,
     "metadata": {},
     "output_type": "execute_result"
    }
   ],
   "source": [
    "file_path = 'C:\\\\Users\\\\jarro\\\\OneDrive\\\\Documents\\\\44-608\\\\608-mod5'\n",
    "file_path"
   ]
  },
  {
   "cell_type": "code",
   "execution_count": 101,
   "id": "9fad3986-168b-4f86-a52e-7e4cd025f901",
   "metadata": {},
   "outputs": [
    {
     "data": {
      "text/plain": [
       "'C:\\\\Users\\\\jarro\\\\OneDrive\\\\Documents\\\\44-608\\\\608-mod5'"
      ]
     },
     "execution_count": 101,
     "metadata": {},
     "output_type": "execute_result"
    }
   ],
   "source": [
    "file_path = r'C:\\Users\\jarro\\OneDrive\\Documents\\44-608\\608-mod5'\n",
    "file_path"
   ]
  },
  {
   "cell_type": "markdown",
   "id": "a6654bff-1cf8-4a39-96d6-521d280504b0",
   "metadata": {},
   "source": [
    "### 8.12 Introduction to Regular Expressions"
   ]
  },
  {
   "cell_type": "code",
   "execution_count": 2,
   "id": "3cb200eb-b378-456a-bb80-325875ce4429",
   "metadata": {},
   "outputs": [
    {
     "data": {
      "text/plain": [
       "'Match'"
      ]
     },
     "execution_count": 2,
     "metadata": {},
     "output_type": "execute_result"
    }
   ],
   "source": [
    "import re\n",
    "pattern = '02215'\n",
    "'Match' if re.fullmatch(pattern, '02215') else 'No match'"
   ]
  },
  {
   "cell_type": "code",
   "execution_count": 3,
   "id": "7c9b7d79-b0c2-4a03-abfc-e12a333c90ff",
   "metadata": {},
   "outputs": [
    {
     "data": {
      "text/plain": [
       "'No match'"
      ]
     },
     "execution_count": 3,
     "metadata": {},
     "output_type": "execute_result"
    }
   ],
   "source": [
    "'Match' if re.fullmatch(pattern, '51220') else 'No match'"
   ]
  },
  {
   "cell_type": "code",
   "execution_count": 5,
   "id": "b19e94c5-3e76-4ca3-b52a-2fe701c4e667",
   "metadata": {},
   "outputs": [
    {
     "data": {
      "text/plain": [
       "'Valid'"
      ]
     },
     "execution_count": 5,
     "metadata": {},
     "output_type": "execute_result"
    }
   ],
   "source": [
    "'Valid' if re.fullmatch(r'\\d{5}', '02215') else 'Invalid'"
   ]
  },
  {
   "cell_type": "code",
   "execution_count": 6,
   "id": "dc3a156d-4037-4764-95de-5be5e29ff6c8",
   "metadata": {},
   "outputs": [
    {
     "data": {
      "text/plain": [
       "'Invalid'"
      ]
     },
     "execution_count": 6,
     "metadata": {},
     "output_type": "execute_result"
    }
   ],
   "source": [
    "'Valid' if re.fullmatch(r'\\d{5}', '9876') else 'Invalid'"
   ]
  },
  {
   "cell_type": "code",
   "execution_count": 7,
   "id": "38baefcd-2027-47bc-afaa-178e63c2858c",
   "metadata": {},
   "outputs": [
    {
     "data": {
      "text/plain": [
       "'Valid'"
      ]
     },
     "execution_count": 7,
     "metadata": {},
     "output_type": "execute_result"
    }
   ],
   "source": [
    "'Valid' if re.fullmatch('[A-Z][a-z]*', 'Wally') else 'Invalid'"
   ]
  },
  {
   "cell_type": "code",
   "execution_count": 8,
   "id": "6ead56e8-3c24-4c8a-9724-519a3a2135d0",
   "metadata": {},
   "outputs": [
    {
     "data": {
      "text/plain": [
       "'Invalid'"
      ]
     },
     "execution_count": 8,
     "metadata": {},
     "output_type": "execute_result"
    }
   ],
   "source": [
    "'Valid' if re.fullmatch('[A-Z][a-z]*', 'eva') else 'Invalid'"
   ]
  },
  {
   "cell_type": "code",
   "execution_count": 9,
   "id": "1fea6715-f853-4004-8ab5-5ccdf856eda7",
   "metadata": {},
   "outputs": [
    {
     "data": {
      "text/plain": [
       "'Match'"
      ]
     },
     "execution_count": 9,
     "metadata": {},
     "output_type": "execute_result"
    }
   ],
   "source": [
    "'Match' if re.fullmatch('[^a-z]', 'A') else 'No match'"
   ]
  },
  {
   "cell_type": "code",
   "execution_count": 10,
   "id": "b86930c0-3732-4c8f-8957-5ff70a29ec84",
   "metadata": {},
   "outputs": [
    {
     "data": {
      "text/plain": [
       "'No match'"
      ]
     },
     "execution_count": 10,
     "metadata": {},
     "output_type": "execute_result"
    }
   ],
   "source": [
    "'Match' if re.fullmatch('[^a-z]', 'a') else 'No match'"
   ]
  },
  {
   "cell_type": "code",
   "execution_count": 11,
   "id": "da549868-d86b-4267-94e7-289bedd0b487",
   "metadata": {},
   "outputs": [
    {
     "data": {
      "text/plain": [
       "'Match'"
      ]
     },
     "execution_count": 11,
     "metadata": {},
     "output_type": "execute_result"
    }
   ],
   "source": [
    "'Match' if re.fullmatch('[*+$]', '*') else 'No match'"
   ]
  },
  {
   "cell_type": "code",
   "execution_count": 12,
   "id": "91bcd87a-9f3a-4016-aba6-54523821c5b0",
   "metadata": {},
   "outputs": [
    {
     "data": {
      "text/plain": [
       "'No match'"
      ]
     },
     "execution_count": 12,
     "metadata": {},
     "output_type": "execute_result"
    }
   ],
   "source": [
    "'Match' if re.fullmatch('[*+$]', '!') else 'No match'"
   ]
  },
  {
   "cell_type": "code",
   "execution_count": 13,
   "id": "2b25fbac-634f-4b97-bc0c-1957c5411b85",
   "metadata": {},
   "outputs": [
    {
     "data": {
      "text/plain": [
       "'Valid'"
      ]
     },
     "execution_count": 13,
     "metadata": {},
     "output_type": "execute_result"
    }
   ],
   "source": [
    "'Valid' if re.fullmatch('[A-Z][a-z]+', 'Wally') else 'Invalid'"
   ]
  },
  {
   "cell_type": "code",
   "execution_count": 14,
   "id": "62495c0a-d797-44ed-a17d-d62d436a2eba",
   "metadata": {},
   "outputs": [
    {
     "data": {
      "text/plain": [
       "'Invalid'"
      ]
     },
     "execution_count": 14,
     "metadata": {},
     "output_type": "execute_result"
    }
   ],
   "source": [
    "'Valid' if re.fullmatch('[A-Z][a-z]+', 'E') else 'Invalid'"
   ]
  },
  {
   "cell_type": "code",
   "execution_count": 15,
   "id": "cc778dc8-9eb5-4dce-b94c-392f2bbc15f6",
   "metadata": {},
   "outputs": [
    {
     "data": {
      "text/plain": [
       "'Match'"
      ]
     },
     "execution_count": 15,
     "metadata": {},
     "output_type": "execute_result"
    }
   ],
   "source": [
    "'Match' if re.fullmatch('labell?ed', 'labelled') else 'No match'"
   ]
  },
  {
   "cell_type": "code",
   "execution_count": 16,
   "id": "ce727098-9840-4255-998e-61d42b1e41d5",
   "metadata": {},
   "outputs": [
    {
     "data": {
      "text/plain": [
       "'Match'"
      ]
     },
     "execution_count": 16,
     "metadata": {},
     "output_type": "execute_result"
    }
   ],
   "source": [
    "'Match' if re.fullmatch('labell?ed', 'labeled') else 'No match'"
   ]
  },
  {
   "cell_type": "code",
   "execution_count": 17,
   "id": "138e7954-c7d9-4541-af46-f0e7a6ddbf36",
   "metadata": {},
   "outputs": [
    {
     "data": {
      "text/plain": [
       "'No match'"
      ]
     },
     "execution_count": 17,
     "metadata": {},
     "output_type": "execute_result"
    }
   ],
   "source": [
    "'Match' if re.fullmatch('labell?ed', 'labellled') else 'No match'"
   ]
  },
  {
   "cell_type": "code",
   "execution_count": 19,
   "id": "dda998e8-8955-4e54-85df-4956388f9f31",
   "metadata": {},
   "outputs": [
    {
     "data": {
      "text/plain": [
       "'Match'"
      ]
     },
     "execution_count": 19,
     "metadata": {},
     "output_type": "execute_result"
    }
   ],
   "source": [
    "'Match' if re.fullmatch(r'\\d{3,}', '123') else 'No match'"
   ]
  },
  {
   "cell_type": "code",
   "execution_count": 20,
   "id": "babf5c40-61de-4d97-a401-0a84031ca515",
   "metadata": {},
   "outputs": [
    {
     "data": {
      "text/plain": [
       "'Match'"
      ]
     },
     "execution_count": 20,
     "metadata": {},
     "output_type": "execute_result"
    }
   ],
   "source": [
    "'Match' if re.fullmatch(r'\\d{3,}', '1234567890') else 'No match'"
   ]
  },
  {
   "cell_type": "code",
   "execution_count": 21,
   "id": "7fe6f7ee-a5ed-46ea-845f-fa668cf1f615",
   "metadata": {},
   "outputs": [
    {
     "data": {
      "text/plain": [
       "'No match'"
      ]
     },
     "execution_count": 21,
     "metadata": {},
     "output_type": "execute_result"
    }
   ],
   "source": [
    "'Match' if re.fullmatch(r'\\d{3,}', '12') else 'No match'"
   ]
  },
  {
   "cell_type": "code",
   "execution_count": 22,
   "id": "ba49193f-e0b9-46a0-ad32-e8ae9bac4ca2",
   "metadata": {},
   "outputs": [
    {
     "data": {
      "text/plain": [
       "'Match'"
      ]
     },
     "execution_count": 22,
     "metadata": {},
     "output_type": "execute_result"
    }
   ],
   "source": [
    "'Match' if re.fullmatch(r'\\d{3,6}', '123') else 'No match'"
   ]
  },
  {
   "cell_type": "code",
   "execution_count": 23,
   "id": "67ed4279-39af-453b-86bf-5682abec66b2",
   "metadata": {},
   "outputs": [
    {
     "data": {
      "text/plain": [
       "'Match'"
      ]
     },
     "execution_count": 23,
     "metadata": {},
     "output_type": "execute_result"
    }
   ],
   "source": [
    "'Match' if re.fullmatch(r'\\d{3,6}', '123456') else 'No match'"
   ]
  },
  {
   "cell_type": "code",
   "execution_count": 24,
   "id": "fe614a31-dae5-41e9-b71f-733b717f8216",
   "metadata": {},
   "outputs": [
    {
     "data": {
      "text/plain": [
       "'No match'"
      ]
     },
     "execution_count": 24,
     "metadata": {},
     "output_type": "execute_result"
    }
   ],
   "source": [
    "'Match' if re.fullmatch(r'\\d{3,6}', '1234567') else 'No match'"
   ]
  },
  {
   "cell_type": "code",
   "execution_count": 25,
   "id": "dbe917a9-aead-4e12-90ae-5c953620351b",
   "metadata": {},
   "outputs": [
    {
     "data": {
      "text/plain": [
       "'No match'"
      ]
     },
     "execution_count": 25,
     "metadata": {},
     "output_type": "execute_result"
    }
   ],
   "source": [
    "'Match' if re.fullmatch(r'\\d{3,6}', '12') else 'No match'"
   ]
  },
  {
   "cell_type": "code",
   "execution_count": 27,
   "id": "1382210d-dd48-4f2b-8a4c-be53440610e7",
   "metadata": {},
   "outputs": [
    {
     "data": {
      "text/plain": [
       "'Match'"
      ]
     },
     "execution_count": 27,
     "metadata": {},
     "output_type": "execute_result"
    }
   ],
   "source": [
    "street = r'\\d+ [A-Z][a-z]* [A-Z][a-z]*'\n",
    "'Match' if re.fullmatch(street, '123 Main Street') else 'No match'"
   ]
  },
  {
   "cell_type": "code",
   "execution_count": 28,
   "id": "c6c1bb37-d0bf-4c97-9007-1fded324fdec",
   "metadata": {},
   "outputs": [
    {
     "data": {
      "text/plain": [
       "'No match'"
      ]
     },
     "execution_count": 28,
     "metadata": {},
     "output_type": "execute_result"
    }
   ],
   "source": [
    "'Match' if re.fullmatch(street, 'Main Street') else 'No match'"
   ]
  },
  {
   "cell_type": "code",
   "execution_count": 33,
   "id": "1eafe4c6-d9b1-44fa-ab10-7c9702d68873",
   "metadata": {},
   "outputs": [
    {
     "data": {
      "text/plain": [
       "'1, 2, 3, 4'"
      ]
     },
     "execution_count": 33,
     "metadata": {},
     "output_type": "execute_result"
    }
   ],
   "source": [
    "re.sub(r'\\t', ', ', '1\\t2\\t3\\t4')"
   ]
  },
  {
   "cell_type": "code",
   "execution_count": 34,
   "id": "6e0de2cf-27a1-481e-ad10-f4d1f4d6e10e",
   "metadata": {},
   "outputs": [
    {
     "data": {
      "text/plain": [
       "'1, 2, 3\\t4'"
      ]
     },
     "execution_count": 34,
     "metadata": {},
     "output_type": "execute_result"
    }
   ],
   "source": [
    "re.sub(r'\\t', ', ', '1\\t2\\t3\\t4', count=2)"
   ]
  },
  {
   "cell_type": "code",
   "execution_count": 37,
   "id": "4b3c3aba-a57d-4195-ace9-0d041077c3b4",
   "metadata": {},
   "outputs": [
    {
     "data": {
      "text/plain": [
       "['1  2', '3', '4', '5', '6', '7', '8']"
      ]
     },
     "execution_count": 37,
     "metadata": {},
     "output_type": "execute_result"
    }
   ],
   "source": [
    "re.split(r',\\s*', '1  2,  3,4,   5,6,7,8')"
   ]
  },
  {
   "cell_type": "code",
   "execution_count": 38,
   "id": "c17dd650-499b-4200-8ac2-2b87d44128a2",
   "metadata": {},
   "outputs": [
    {
     "data": {
      "text/plain": [
       "['1  2', '3', '4', '5,6,7,8']"
      ]
     },
     "execution_count": 38,
     "metadata": {},
     "output_type": "execute_result"
    }
   ],
   "source": [
    "re.split(r',\\s*', '1  2,  3,4,   5,6,7,8', maxsplit=3)"
   ]
  },
  {
   "cell_type": "code",
   "execution_count": 39,
   "id": "d2b0d2c8-d046-4bc2-b846-e28cf9ba0c56",
   "metadata": {},
   "outputs": [
    {
     "data": {
      "text/plain": [
       "'Python'"
      ]
     },
     "execution_count": 39,
     "metadata": {},
     "output_type": "execute_result"
    }
   ],
   "source": [
    "result = re.search('Python', 'Python is fun')\n",
    "result.group() if result else 'not found'"
   ]
  },
  {
   "cell_type": "code",
   "execution_count": 42,
   "id": "797816a5-3ebe-4ffe-a526-45c632ece55d",
   "metadata": {},
   "outputs": [
    {
     "data": {
      "text/plain": [
       "'not found'"
      ]
     },
     "execution_count": 42,
     "metadata": {},
     "output_type": "execute_result"
    }
   ],
   "source": [
    "result2 = re.search('fun!', 'Python is fun')\n",
    "result2.group() if result2 else 'not found'"
   ]
  },
  {
   "cell_type": "code",
   "execution_count": 44,
   "id": "3df5b13b-c24e-4c59-a5d3-7c6930c4c390",
   "metadata": {},
   "outputs": [
    {
     "data": {
      "text/plain": [
       "'SAM'"
      ]
     },
     "execution_count": 44,
     "metadata": {},
     "output_type": "execute_result"
    }
   ],
   "source": [
    "result3 = re.search('Sam', 'SAM WHITE', flags=re.IGNORECASE)\n",
    "result3.group() if result3 else 'not found'"
   ]
  },
  {
   "cell_type": "code",
   "execution_count": 47,
   "id": "df48f286-2dea-40b6-9cec-d98e62379d9c",
   "metadata": {},
   "outputs": [
    {
     "data": {
      "text/plain": [
       "'Python'"
      ]
     },
     "execution_count": 47,
     "metadata": {},
     "output_type": "execute_result"
    }
   ],
   "source": [
    "result = re.search('^Python', 'Python is fun')\n",
    "result.group() if result else 'not found'"
   ]
  },
  {
   "cell_type": "code",
   "execution_count": 48,
   "id": "777dbede-5b07-42a5-91af-dd064bb436c7",
   "metadata": {},
   "outputs": [
    {
     "data": {
      "text/plain": [
       "'not found'"
      ]
     },
     "execution_count": 48,
     "metadata": {},
     "output_type": "execute_result"
    }
   ],
   "source": [
    "result = re.search('^fun', 'Python is fun')\n",
    "result.group() if result else 'not found'"
   ]
  },
  {
   "cell_type": "code",
   "execution_count": 50,
   "id": "94a4ec00-159c-4cb4-b276-fd80d6a43ba0",
   "metadata": {},
   "outputs": [
    {
     "data": {
      "text/plain": [
       "'not found'"
      ]
     },
     "execution_count": 50,
     "metadata": {},
     "output_type": "execute_result"
    }
   ],
   "source": [
    "result = re.search('Python$', 'Python is fun')\n",
    "result.group() if result else 'not found'"
   ]
  },
  {
   "cell_type": "code",
   "execution_count": 51,
   "id": "f9983bd9-9ab4-4ce9-abe0-9938b5ec2d16",
   "metadata": {},
   "outputs": [
    {
     "data": {
      "text/plain": [
       "'fun'"
      ]
     },
     "execution_count": 51,
     "metadata": {},
     "output_type": "execute_result"
    }
   ],
   "source": [
    "result = re.search('fun$', 'Python is fun')\n",
    "result.group() if result else 'not found'"
   ]
  },
  {
   "cell_type": "code",
   "execution_count": 54,
   "id": "082fcbe8-74f4-4b52-a4a5-2b7565f9360a",
   "metadata": {},
   "outputs": [
    {
     "data": {
      "text/plain": [
       "['555-555-1234', '555-555-4321']"
      ]
     },
     "execution_count": 54,
     "metadata": {},
     "output_type": "execute_result"
    }
   ],
   "source": [
    "contact = 'Wally White, Home: 555-555-1234, Work: 555-555-4321'\n",
    "re.findall(r'\\d{3}-\\d{3}-\\d{4}', contact)"
   ]
  },
  {
   "cell_type": "code",
   "execution_count": 55,
   "id": "1f16b144-9988-4ff1-b40f-9bce018d809f",
   "metadata": {},
   "outputs": [
    {
     "name": "stdout",
     "output_type": "stream",
     "text": [
      "555-555-1234\n",
      "555-555-4321\n"
     ]
    }
   ],
   "source": [
    "for phone in re.finditer(r'\\d{3}-\\d{3}-\\d{4}', contact):\n",
    "    print(phone.group())"
   ]
  },
  {
   "cell_type": "code",
   "execution_count": 58,
   "id": "bf18f7da-0c9c-4bc6-b555-7c28b3ea89bb",
   "metadata": {},
   "outputs": [],
   "source": [
    "text = 'Charley Cyan, email: demo1@deitel.com'\n",
    "pattern = r'([A-Z][a-z]+ [A-Z][a-z]+), email: (\\w+@\\w+\\.\\w{3})'\n",
    "result = re.search(pattern, text)"
   ]
  },
  {
   "cell_type": "code",
   "execution_count": 59,
   "id": "6f63e836-0417-4392-bb0d-378fb65e776f",
   "metadata": {},
   "outputs": [
    {
     "data": {
      "text/plain": [
       "('Charley Cyan', 'demo1@deitel.com')"
      ]
     },
     "execution_count": 59,
     "metadata": {},
     "output_type": "execute_result"
    }
   ],
   "source": [
    "result.groups()"
   ]
  },
  {
   "cell_type": "code",
   "execution_count": 60,
   "id": "651f31ca-f507-4a6e-a8fb-35cf1886c33d",
   "metadata": {},
   "outputs": [
    {
     "data": {
      "text/plain": [
       "'Charley Cyan, email: demo1@deitel.com'"
      ]
     },
     "execution_count": 60,
     "metadata": {},
     "output_type": "execute_result"
    }
   ],
   "source": [
    "result.group()"
   ]
  },
  {
   "cell_type": "code",
   "execution_count": 61,
   "id": "50d2e47b-26ec-4ea1-b667-a8c7f70cb37e",
   "metadata": {},
   "outputs": [
    {
     "data": {
      "text/plain": [
       "'Charley Cyan'"
      ]
     },
     "execution_count": 61,
     "metadata": {},
     "output_type": "execute_result"
    }
   ],
   "source": [
    "result.group(1)"
   ]
  },
  {
   "cell_type": "code",
   "execution_count": 62,
   "id": "2e68f596-1e11-496b-8588-246143b9b93c",
   "metadata": {},
   "outputs": [
    {
     "data": {
      "text/plain": [
       "'demo1@deitel.com'"
      ]
     },
     "execution_count": 62,
     "metadata": {},
     "output_type": "execute_result"
    }
   ],
   "source": [
    "result.group(2)"
   ]
  },
  {
   "cell_type": "code",
   "execution_count": 66,
   "id": "39d833d3-090e-469a-a849-4780ddb73602",
   "metadata": {},
   "outputs": [
    {
     "data": {
      "text/plain": [
       "('10', '+', '5')"
      ]
     },
     "execution_count": 66,
     "metadata": {},
     "output_type": "execute_result"
    }
   ],
   "source": [
    "result = re.search(r'(\\d+) ([-+*/]) (\\d+)', '10 + 5')\n",
    "result.groups()"
   ]
  },
  {
   "cell_type": "code",
   "execution_count": 67,
   "id": "c3812a27-072b-4cc9-93dc-64ab333f7725",
   "metadata": {},
   "outputs": [
    {
     "data": {
      "text/plain": [
       "'10'"
      ]
     },
     "execution_count": 67,
     "metadata": {},
     "output_type": "execute_result"
    }
   ],
   "source": [
    "result.group(1)"
   ]
  },
  {
   "cell_type": "code",
   "execution_count": 68,
   "id": "1077872f-6363-4248-9ddc-304ac2f5c2ef",
   "metadata": {},
   "outputs": [
    {
     "data": {
      "text/plain": [
       "'+'"
      ]
     },
     "execution_count": 68,
     "metadata": {},
     "output_type": "execute_result"
    }
   ],
   "source": [
    "result.group(2)"
   ]
  },
  {
   "cell_type": "code",
   "execution_count": 69,
   "id": "15cb1c9e-1f0f-44b2-91f6-905e8aee7b00",
   "metadata": {},
   "outputs": [
    {
     "data": {
      "text/plain": [
       "'5'"
      ]
     },
     "execution_count": 69,
     "metadata": {},
     "output_type": "execute_result"
    }
   ],
   "source": [
    "result.group(3)"
   ]
  },
  {
   "cell_type": "markdown",
   "id": "a67afe1e-fe98-4380-beef-8454add61be8",
   "metadata": {},
   "source": [
    "### 8.13 Intro to Data Science: Pandas, Regular Expressions and Data Mining"
   ]
  },
  {
   "cell_type": "code",
   "execution_count": 70,
   "id": "5375b7e2-65b7-4481-b82b-e3d04564be36",
   "metadata": {},
   "outputs": [
    {
     "name": "stdout",
     "output_type": "stream",
     "text": [
      "Jarrod Sims\n"
     ]
    }
   ],
   "source": [
    "print('Jarrod Sims')"
   ]
  },
  {
   "cell_type": "markdown",
   "id": "c60ace91-4181-48e5-bc33-91c296be3c7e",
   "metadata": {},
   "source": [
    "### Data Validation"
   ]
  },
  {
   "cell_type": "code",
   "execution_count": 71,
   "id": "a9af1ce7-9bc9-452e-8b6f-324f8b9797b6",
   "metadata": {},
   "outputs": [
    {
     "data": {
      "text/plain": [
       "Boston    02215\n",
       "Miami      3310\n",
       "dtype: object"
      ]
     },
     "execution_count": 71,
     "metadata": {},
     "output_type": "execute_result"
    }
   ],
   "source": [
    "import pandas as pd\n",
    "zips = pd.Series({'Boston': '02215', 'Miami': '3310'})\n",
    "zips"
   ]
  },
  {
   "cell_type": "code",
   "execution_count": 72,
   "id": "5aae68bb-ef65-45c9-83f6-4a8694bf592c",
   "metadata": {},
   "outputs": [
    {
     "data": {
      "text/plain": [
       "Boston     True\n",
       "Miami     False\n",
       "dtype: bool"
      ]
     },
     "execution_count": 72,
     "metadata": {},
     "output_type": "execute_result"
    }
   ],
   "source": [
    "zips.str.match(r'\\d{5}')"
   ]
  },
  {
   "cell_type": "code",
   "execution_count": 73,
   "id": "9e32b903-da39-4ab2-ac03-3a2f6925683f",
   "metadata": {},
   "outputs": [
    {
     "name": "stdout",
     "output_type": "stream",
     "text": [
      "Jarrod Sims\n"
     ]
    }
   ],
   "source": [
    "print('Jarrod Sims')"
   ]
  },
  {
   "cell_type": "code",
   "execution_count": 74,
   "id": "16c2ff66-bd31-4d98-8df6-0b8b76f34413",
   "metadata": {},
   "outputs": [
    {
     "data": {
      "text/plain": [
       "0    Boston, MA 02215\n",
       "1     Miami, FL 33101\n",
       "dtype: object"
      ]
     },
     "execution_count": 74,
     "metadata": {},
     "output_type": "execute_result"
    }
   ],
   "source": [
    "cities = pd.Series(['Boston, MA 02215', 'Miami, FL 33101'])\n",
    "cities"
   ]
  },
  {
   "cell_type": "code",
   "execution_count": 75,
   "id": "0aee6589-fd27-4b81-bb1b-685283f0a640",
   "metadata": {},
   "outputs": [
    {
     "data": {
      "text/plain": [
       "0    True\n",
       "1    True\n",
       "dtype: bool"
      ]
     },
     "execution_count": 75,
     "metadata": {},
     "output_type": "execute_result"
    }
   ],
   "source": [
    "cities.str.contains(r' [A-Z]{2} ')"
   ]
  },
  {
   "cell_type": "code",
   "execution_count": 76,
   "id": "3e7c6f70-8fe1-4359-a914-7b0b89915d82",
   "metadata": {},
   "outputs": [
    {
     "data": {
      "text/plain": [
       "0    False\n",
       "1    False\n",
       "dtype: bool"
      ]
     },
     "execution_count": 76,
     "metadata": {},
     "output_type": "execute_result"
    }
   ],
   "source": [
    "cities.str.match(r' [A-Z]{2} ')"
   ]
  },
  {
   "cell_type": "markdown",
   "id": "946e7ee8-be36-42d8-bfbf-1009ef841bd7",
   "metadata": {
    "tags": []
   },
   "source": [
    "### Reformatting Your Data"
   ]
  },
  {
   "cell_type": "code",
   "execution_count": 86,
   "id": "c65f4edc-47d7-4179-b0c0-504146e148b1",
   "metadata": {},
   "outputs": [
    {
     "name": "stdout",
     "output_type": "stream",
     "text": [
      "Jarrod Sims\n"
     ]
    }
   ],
   "source": [
    "print('Jarrod Sims')"
   ]
  },
  {
   "cell_type": "code",
   "execution_count": 79,
   "id": "5e5d28f0-1051-4199-ac66-69ce397ba597",
   "metadata": {},
   "outputs": [
    {
     "data": {
      "text/html": [
       "<div>\n",
       "<style scoped>\n",
       "    .dataframe tbody tr th:only-of-type {\n",
       "        vertical-align: middle;\n",
       "    }\n",
       "\n",
       "    .dataframe tbody tr th {\n",
       "        vertical-align: top;\n",
       "    }\n",
       "\n",
       "    .dataframe thead th {\n",
       "        text-align: right;\n",
       "    }\n",
       "</style>\n",
       "<table border=\"1\" class=\"dataframe\">\n",
       "  <thead>\n",
       "    <tr style=\"text-align: right;\">\n",
       "      <th></th>\n",
       "      <th>Name</th>\n",
       "      <th>Email</th>\n",
       "      <th>Phone</th>\n",
       "    </tr>\n",
       "  </thead>\n",
       "  <tbody>\n",
       "    <tr>\n",
       "      <th>0</th>\n",
       "      <td>Mike Green</td>\n",
       "      <td>demo1@deitel.com</td>\n",
       "      <td>5555555555</td>\n",
       "    </tr>\n",
       "    <tr>\n",
       "      <th>1</th>\n",
       "      <td>Sue Brown</td>\n",
       "      <td>demo2@deitel.com</td>\n",
       "      <td>5555551234</td>\n",
       "    </tr>\n",
       "  </tbody>\n",
       "</table>\n",
       "</div>"
      ],
      "text/plain": [
       "         Name             Email       Phone\n",
       "0  Mike Green  demo1@deitel.com  5555555555\n",
       "1   Sue Brown  demo2@deitel.com  5555551234"
      ]
     },
     "execution_count": 79,
     "metadata": {},
     "output_type": "execute_result"
    }
   ],
   "source": [
    "contacts = [['Mike Green', 'demo1@deitel.com', '5555555555'],\n",
    "            ['Sue Brown', 'demo2@deitel.com', '5555551234']]\n",
    "contactsdf = pd.DataFrame(contacts,\n",
    "                          columns=['Name', 'Email', 'Phone'])\n",
    "contactsdf"
   ]
  },
  {
   "cell_type": "code",
   "execution_count": 82,
   "id": "42c089d7-2e8a-4303-b589-167b595d13c7",
   "metadata": {},
   "outputs": [],
   "source": [
    "import re\n",
    "def get_formatted_phone(value):\n",
    "    result = re.fullmatch(r'(\\d{3})(\\d{3})(\\d{4})', value)\n",
    "    return '-'.join(result.groups()) if result else value"
   ]
  },
  {
   "cell_type": "code",
   "execution_count": 84,
   "id": "260a3379-4c3d-44ce-aeb7-f73b119aaa80",
   "metadata": {},
   "outputs": [
    {
     "data": {
      "text/plain": [
       "0    555-555-5555\n",
       "1    555-555-1234\n",
       "Name: Phone, dtype: object"
      ]
     },
     "execution_count": 84,
     "metadata": {},
     "output_type": "execute_result"
    }
   ],
   "source": [
    "formatted_phone = contactsdf['Phone'].map(get_formatted_phone)\n",
    "formatted_phone"
   ]
  },
  {
   "cell_type": "code",
   "execution_count": 85,
   "id": "c8690955-37c7-44f2-9682-887840ae6287",
   "metadata": {},
   "outputs": [
    {
     "data": {
      "text/html": [
       "<div>\n",
       "<style scoped>\n",
       "    .dataframe tbody tr th:only-of-type {\n",
       "        vertical-align: middle;\n",
       "    }\n",
       "\n",
       "    .dataframe tbody tr th {\n",
       "        vertical-align: top;\n",
       "    }\n",
       "\n",
       "    .dataframe thead th {\n",
       "        text-align: right;\n",
       "    }\n",
       "</style>\n",
       "<table border=\"1\" class=\"dataframe\">\n",
       "  <thead>\n",
       "    <tr style=\"text-align: right;\">\n",
       "      <th></th>\n",
       "      <th>Name</th>\n",
       "      <th>Email</th>\n",
       "      <th>Phone</th>\n",
       "    </tr>\n",
       "  </thead>\n",
       "  <tbody>\n",
       "    <tr>\n",
       "      <th>0</th>\n",
       "      <td>Mike Green</td>\n",
       "      <td>demo1@deitel.com</td>\n",
       "      <td>555-555-5555</td>\n",
       "    </tr>\n",
       "    <tr>\n",
       "      <th>1</th>\n",
       "      <td>Sue Brown</td>\n",
       "      <td>demo2@deitel.com</td>\n",
       "      <td>555-555-1234</td>\n",
       "    </tr>\n",
       "  </tbody>\n",
       "</table>\n",
       "</div>"
      ],
      "text/plain": [
       "         Name             Email         Phone\n",
       "0  Mike Green  demo1@deitel.com  555-555-5555\n",
       "1   Sue Brown  demo2@deitel.com  555-555-1234"
      ]
     },
     "execution_count": 85,
     "metadata": {},
     "output_type": "execute_result"
    }
   ],
   "source": [
    "contactsdf['Phone'] = formatted_phone\n",
    "contactsdf"
   ]
  },
  {
   "cell_type": "code",
   "execution_count": null,
   "id": "65d06e06-45c9-4bea-940a-28d6cc427704",
   "metadata": {},
   "outputs": [],
   "source": [
    "Jarrod Sims"
   ]
  }
 ],
 "metadata": {
  "kernelspec": {
   "display_name": "Python 3 (ipykernel)",
   "language": "python",
   "name": "python3"
  },
  "language_info": {
   "codemirror_mode": {
    "name": "ipython",
    "version": 3
   },
   "file_extension": ".py",
   "mimetype": "text/x-python",
   "name": "python",
   "nbconvert_exporter": "python",
   "pygments_lexer": "ipython3",
   "version": "3.9.12"
  }
 },
 "nbformat": 4,
 "nbformat_minor": 5
}
